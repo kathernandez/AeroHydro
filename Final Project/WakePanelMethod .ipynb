{
 "metadata": {
  "name": ""
 },
 "nbformat": 3,
 "nbformat_minor": 0,
 "worksheets": [
  {
   "cells": [
    {
     "cell_type": "heading",
     "level": 4,
     "metadata": {},
     "source": [
      "Kat Hernandez\n"
     ]
    },
    {
     "cell_type": "heading",
     "level": 1,
     "metadata": {},
     "source": [
      "Wake Panel Method "
     ]
    },
    {
     "cell_type": "markdown",
     "metadata": {},
     "source": [
      "In lesson 11, we learned how to implement source-vortex panel method. The method begins with using source sheets as a way to model flow around an object however lift is not incorporated. In order to include lift, we need to have circulation. The right amount of circulation is then achieved by satisfying the Kutta-condition. The circulation is introduced by placing a vortex-sheet at every panel with the same constant vortex strength. For this lesson instead of using souce-vortex sheets we will use doublet sheets. Since doublets have circulation, we will keep lift without the need to superimpose another singularity element. \n",
      "\n",
      "Now we want to look at flow down stream of the airfoil, in particular, the wake behind the airfoil. There are two main techniques typically used to model wake shapes:\n",
      "\n",
      "   1. Spatial wake-relaxation method \n",
      "   2. Time stepping method \n",
      "\n",
      "The wake shapes we are looking at are free-wakes because they apply to incompressible flow where the viscous forces are considered negligable. Also, we are using free wakes because there should be no side forces in order to conserve momentum. We will assume the flow is steady therefore a spatial wake-relation method should be used. Time stepping methods are generally used to model wake forms for unsteady flow. Additionally, we can model the wake through a more simple method, single wake panel methods aligned with the free stream. Although this method has shown to be less accurate, it serves as a simplified introduction to modeling the wake.\n",
      "\n",
      "There are generally 3 trajectories/shapes for the wake. Two of them are used for the traditional single pass panel method with a fixed wake panel of infinite length. In the figure below, wake A and B are the traditional single panel method. Wake A is a force free wake that is aligned with the free stream velocity and wake B is aligned with the trailing edge's bisector angle. The main difference to keep in mind when selectin which trajectory to pick between A and B is the region you are most interested in. Wake A is more accurate further downstream of the wake when the freestream flow becomes dominant whereas wake B is more accurate closer to the trailing end. Further down stream, Wake B will begin to violate conservation of momentum by overestimating lift and underestimating drag."
     ]
    },
    {
     "cell_type": "code",
     "collapsed": false,
     "input": [
      "from IPython.display import Image\n",
      "Image(filename='C:/Users/Kat/Documents/GitHub/AeroHydro/Final Project/DW2.png')"
     ],
     "language": "python",
     "metadata": {},
     "outputs": [
      {
       "metadata": {},
       "output_type": "pyout",
       "png": "[encoded data removed]",
       "prompt_number": 44,
       "text": [
        "<IPython.core.display.Image at 0x968da90>"
       ]
      }
     ],
     "prompt_number": 44
    },
    {
     "cell_type": "markdown",
     "metadata": {},
     "source": [
      "Wake C is a fixed shape based on empiral data and the cons with using a fixed shape based on empirical results is that the calculations for induce drag become more complex and convervation of the overall momentum of the wake is not always ensured. \n",
      "\n",
      "Constant strength doublet panels will be used in the single wake panel method. Therefore, in this lesson we will learn two main ideas, how to implement doublet panels and how to incorporate the wake behind the airfoil. "
     ]
    },
    {
     "cell_type": "markdown",
     "metadata": {},
     "source": [
      "##### References\n",
      "\n",
      "Blower, Christopher J., Dhruv, Akash, and Wickenheiser, Adam M.\"A Two-dimensional Iterative Panel Method and Boundary Layer Model for Bio-Inspired Multi-body Wings, \" The George Washington University (2014).\n",
      "\n",
      "G. Bramesfeld, \u201cA Higher Order Vortex-Lattice Method with a Force-Free Wake,\u201d Pennslyvania State University (2006).\n"
     ]
    },
    {
     "cell_type": "heading",
     "level": 2,
     "metadata": {},
     "source": [
      "Discretization into panels"
     ]
    },
    {
     "cell_type": "markdown",
     "metadata": {},
     "source": [
      "We begin by importing our libraries as we have done in all of our previous lessons. Remember to also include SciPy since we will be using the integrate function again. "
     ]
    },
    {
     "cell_type": "code",
     "collapsed": false,
     "input": [
      "import numpy as np\n",
      "from scipy import integrate\n",
      "from math import *\n",
      "import matplotlib.pyplot as plt "
     ],
     "language": "python",
     "metadata": {},
     "outputs": [],
     "prompt_number": 45
    },
    {
     "cell_type": "markdown",
     "metadata": {},
     "source": [
      "Now we import the NACA0012 geometry file from a data file. Note, alter the directory path to load the dat file successfully. In this case I have included the entire path from my computer to get the file to load. "
     ]
    },
    {
     "cell_type": "code",
     "collapsed": false,
     "input": [
      "#read of the geometry from the a data file \n",
      "coords = np.loadtxt('C:/Users/Kat/Documents/Aero_Hydro/AeroPython-master/resources/naca0012.dat')\n",
      "xp,yp = coords[:,0], coords[:,1]\n",
      "\n",
      "# plotting the geometry \n",
      "%matplotlib inline \n",
      "valX,valY = 0.1,0.2\n",
      "xmin,xmax = min(xp),max(xp)\n",
      "ymin,ymax = min(yp),max(yp)\n",
      "xstart,xend = xmin-valX*(xmax-xmin),xmax+valX*(xmax-xmin)\n",
      "ystart,yend = ymin-valY*(ymax-ymin),ymax+valY*(ymax-ymin)\n",
      "size = 10\n",
      "plt.figure(figsize=(size,(yend-ystart)/(xend-xstart)*size))\n",
      "plt.grid(True)\n",
      "plt.xlabel('x',fontsize=16)\n",
      "plt.ylabel('y',fontsize=16)\n",
      "plt.xlim(xstart,xend)\n",
      "plt.ylim(ystart,yend)\n",
      "plt.plot(xp,yp,'k-',linewidth=2);\n"
     ],
     "language": "python",
     "metadata": {},
     "outputs": [
      {
       "metadata": {},
       "output_type": "display_data",
       "png": "[encoded data removed]",
       "text": [
        "<matplotlib.figure.Figure at 0x60a27f0>"
       ]
      }
     ],
     "prompt_number": 46
    },
    {
     "cell_type": "markdown",
     "metadata": {},
     "source": [
      "The airfoil geometry will be broken down into N panels as done in lesson 11.However, in lesson 11 the panels are defined from the upper suface to the lower surface. In order to keep the normal vectors of the wake panels pointing up we need to change the direction of the panel definition to go from the lower surface to the upper surface. Below, the code from lesson 11 has been modified in the following ways (source Olivier): \n",
      "        1. Redefine self.beta in the class Panel we create\n",
      "        and 2. Reverse the arrays xp and yp\n",
      "\n",
      "A class is created to store the panel's information and to define the control point which will be the midpoint of the panel. "
     ]
    },
    {
     "cell_type": "code",
     "collapsed": false,
     "input": [
      "class Panel: \n",
      "    def __init__(self,xa,ya,xb,yb):\n",
      "        self.xa,self.ya = xa,ya                    #1st end-point \n",
      "        self.xb,self.yb = xb,yb                    #2nd end-point \n",
      "        self.xc,self.yc = (xa+xb)/2,(ya+yb)/2    #control point \n",
      "        self.length = sqrt((xb-xa)**2+(yb-ya)**2)  #length of the panel \n",
      "        \n",
      "        #orientation of the panel (from lower surface to upper surface)\n",
      "        if (xb>xa): self.beta = acos((ya-yb)/self.length)\n",
      "        else: self.beta = pi+acos((yb-ya)/self.length)\n",
      "        \n",
      "        #locations of the panel \n",
      "        if (self.beta<=pi): self.loc = 'extrados'\n",
      "        else: self.loc = 'intrados'\n",
      "        \n",
      "        self.K = 0.       #doublet strength \n",
      "        self.vt = 0.     #tangential velocity \n",
      "        self.Cp = 0.    #pressure coefiicient "
     ],
     "language": "python",
     "metadata": {},
     "outputs": [],
     "prompt_number": 47
    },
    {
     "cell_type": "markdown",
     "metadata": {},
     "source": [
      "Now we use a create a function to discretize the airfoil geometry into N panels and when we extend the arrays using np.append we make sure the arrays go from the lower surface to the upper surface. \n",
      "\n",
      "Additionally, when the geometry is discretized we want to define the geometry of the wake panel. The wake panel will begin at the end point of the last panel and will continue for x = infinity which can be simulated by setting the end point to 100,000 chord lengths (basically pick any really large number). Since the wake panel will be aligned with the trailing edge, the y coordinate of the wake panel will remain constant. Therefore, the size of the panel array will be N+1 instead of N and in the for loop an if statement is included to define the geometry of the wake panel when i == N or the N+1 panel (note, N is used instead of N+1 because the indexing begins from 0 and not 1). "
     ]
    },
    {
     "cell_type": "code",
     "collapsed": false,
     "input": [
      "def definePanels(N,xp,yp):\n",
      "    R = (max(xp)-min(xp))/2                                 #radius of circle \n",
      "    xcenter = (max(xp)+min(xp))/2                           #x-coord of center    \n",
      "    xcircle = xcenter + R*np.cos(np.linspace(0,2*pi,N+1))   #x-coord of the circle pts\n",
      "    \n",
      "    x = np.copy(xcircle) #projection of the xcoord on the surface \n",
      "    y = np.empty_like(x) #initialization of the y-coord Numpy Array \n",
      "    \n",
      "    #Extend arrays using np.append in the CLOCKWISE direction \n",
      "    xp,yp = np.append(xp[0],xp[::-1]),np.append(yp[0],yp[::-1])\n",
      "    \n",
      "    I = 0\n",
      "    for i in range (N):\n",
      "        while (I<len(xp)-1):\n",
      "            if(xp[I]<=x[i]<=xp[I+1] or xp[I+1]<=x[i]<=xp[I]): break\n",
      "            else: I += 1\n",
      "        a = (yp[I+1]-yp[I])/(xp[I+1]-xp[I])\n",
      "        b = yp[I+1]-a*xp[I+1]\n",
      "        y[i] = a*x[i]+b              #interpolation being used to get y-coordinates \n",
      "    y[N] = y[0]\n",
      "    \n",
      "    panel = np.empty(N+1,dtype=object) #changed the panel size from N to N+1 \n",
      "                                        #to include wake panel\n",
      "    for i in range(N+1):\n",
      "        if (i==N):\n",
      "            panel[i] = Panel(x[i],y[i],100000,y[i])#start of the wake panel = endpoint N panel\n",
      "        else:                                      #and endpoint is 100,000 chord lengths \n",
      "           panel[i] = Panel(x[i],y[i],x[i+1],y[i+1]) #including the body panels \n",
      "    return panel"
     ],
     "language": "python",
     "metadata": {},
     "outputs": [],
     "prompt_number": 48
    },
    {
     "cell_type": "markdown",
     "metadata": {},
     "source": [
      "The definePanels function can now be used to discretize the geometry after selecting a number of panels. "
     ]
    },
    {
     "cell_type": "code",
     "collapsed": false,
     "input": [
      "N = 40  #number of panels\n",
      "panel = definePanels(N,xp,yp) #discretization of the geometry into panels \n",
      "\n",
      "\n",
      "valX,valY = 0.1,0.2\n",
      "xmin,xmax = min([p.xa for p in panel]), max([p.xa for p in panel])\n",
      "ymin,ymax = min([p.ya for p in panel]),max([p.ya for p in panel])\n",
      "xstart,xend = xmin-valX*(xmax-xmin),xmax+valX*(xmax-xmin)\n",
      "ystart,yend = ymin-valY*(ymax-ymin),ymax+valY*(ymax-ymin)\n",
      "size = 10\n",
      "plt.figure(figsize=(size,(yend-ystart)/(xend-xstart)*size))\n",
      "size = 10\n",
      "plt.grid(True) \n",
      "plt.xlabel('x',fontsize=16)\n",
      "plt.ylabel('y',fontsize=16)\n",
      "plt.xlim(xstart,xend)\n",
      "plt.ylim(ystart,yend)\n",
      "plt.plot([p.xa for p in panel],[p.ya for p in panel],\\\n",
      "          linestyle='-',linewidth=1,marker='o',markersize=6,color='r');\n",
      "plt.plot([p.xb for p in panel],[p.yb for p in panel],\\\n",
      "          linestyle='-',linewidth=1,marker='o',markersize=6,color='r');\n",
      "plt.xlim(xstart,2) \n",
      "plt.show()\n",
      "\n"
     ],
     "language": "python",
     "metadata": {},
     "outputs": [
      {
       "metadata": {},
       "output_type": "display_data",
       "png": "[encoded data removed]",
       "text": [
        "<matplotlib.figure.Figure at 0x96a3cc0>"
       ]
      }
     ],
     "prompt_number": 49
    },
    {
     "cell_type": "markdown",
     "metadata": {},
     "source": [
      "A class is created for the free stream velocity which takes into account the angle of attack. "
     ]
    },
    {
     "cell_type": "code",
     "collapsed": false,
     "input": [
      "class Freestream: \n",
      "    def __init__(self,uinf,alpha):\n",
      "        self.uinf = uinf                #velocity magnitude \n",
      "        self.alpha = alpha*pi/180       #angle of attack (in degrees) \n",
      "        \n",
      "#definition of the object freestream\n",
      "uinf = 1.0          #freestream speed \n",
      "alpha = 0.0       #angle of attack (in degrees) \n",
      "freestream = Freestream(uinf,alpha)     #instantation of the object's freedom "
     ],
     "language": "python",
     "metadata": {},
     "outputs": [],
     "prompt_number": 50
    },
    {
     "cell_type": "heading",
     "level": 2,
     "metadata": {},
     "source": [
      "Flow tangency boundary condition "
     ]
    },
    {
     "cell_type": "markdown",
     "metadata": {},
     "source": [
      "At the control points which are the center point of the panels the flow tangency condition is enforced in order to approximately make the body geometry correspond to a dividing streamline. Also, by using more panels we improve the approximation. The flow tangency bounday condition is a Neumman bounday condition meaning it specifies the value of the derivative of the solution on the boundary. Since the velocity in the normal direction needs to equal to zero in order to enforce the flow tangency condition, the derivative of the flow potential in the normal direction is calculated and set equal to zero as shown below. \n",
      "\n",
      "$$0 = \\underline{V}\\cdot\\underline{n}_i = \\frac{\\partial}{\\partial n_i} \\left\\{ \\phi\\left(x_{c_i},y_{c_i}\\right) \\right\\}$$\n",
      "\n",
      "Before solving for the partial derivative however, the potential of the flow needs to be computed. In previous lessons, the potential of a source and vortex were derived. For doublets in lesson 4, the velocity components were derived from the stream function. After integrating the u velocity from lesson 4 with respect to x, the potential of a doublet is: \n",
      "\n",
      "$$\\phi_{doublet}\\left(x,y\\right) = \\frac{x}{x^2+y^2}$$\n",
      "\n",
      "We already know from the previous lesson the potential of the free stream velocity as: \n",
      "\n",
      "$$\\phi_{freestream}\\left(x,y\\right) = V_\\infty \\cos \\alpha x + V_\\infty \\sin \\alpha y$$ \n",
      "\n",
      "So the total potential of the system will be the following using superposition:\n",
      "\n",
      "$$\\phi\\left(x_{ci},y_{ci}\\right) =  \\phi_{freestream}\\left(x_{ci},y_{ci}\\right) + \\phi_{doublet}\\left(x_{ci},y_{ci}\\right)$$\n",
      "\n",
      "\n",
      "Now we are ready to take the derivative of the flow potential in the normal direction and setting it equal to zero. \n",
      "$$\n",
      "\\begin{align*}\n",
      "\\phi\\left(x_{c_i},y_{c_i}\\right) &= V_\\infty x_{c_i} \\cos \\alpha + V_\\infty y_{c_i} \\sin \\alpha + \\sum_{j=1}^N \\frac{k_j}{2\\pi} \\int_j \\ln \\left(\\frac{x_{c_i}-x_j(s_j)}{(x_{c_i}-x_j(s_j))^2+(y_{c_i}-y_j(s_j))^2} \\right) {\\rm d}s_j \\\\\n",
      "\\end{align*}\n",
      "$$ \n",
      "\n",
      "And satisfy the bounday condition \n",
      "$$0 = \\underline{V}\\cdot\\underline{n}_i = \\frac{\\partial}{\\partial n_i} \\left\\{ \\phi\\left(x_{c_i},y_{c_i}\\right) \\right\\}$$\n",
      "\n",
      "\n",
      "$$\n",
      "0 = V_\\infty \\cos \\left(\\alpha-\\beta_i\\right)+ \\sum_{j=1,j\\neq i}^N \\frac{k_j}{2\\pi} \\int_j \\frac{\\partial}{\\partial n_i} \\left(\\frac{x_{c_i}-x_j(s_j)}{(x_{c_i}-x_j(s_j))^2+(y_{c_i}-y_j(s_j))^2} \\right) {\\rm d}s_j \\\\\n",
      "$$\n",
      "\n",
      "\n",
      "Below, we solve for the integrand by using the product or qoutient rule and combining like terms. \n",
      "\n",
      "$$\n",
      "\\frac{\\partial}{\\partial n_i} \\left( \\frac{x_{c_i}-x_j(s_j)}{(x_{c_i}-x_j(s_j))^2+(y_{c_i}-y_j(s_j))^2} \\right)\n",
      "$$\n",
      "\n",
      "$$\n",
      "=\\frac{(x_{c_i}-x_j(s_j))^2 + (y_{c_i}-y_j(s_j))^2)\\frac{\\partial x_{c_i}}{\\partial n_i} - [(x_{c_i}-x_j(s_j))\\frac{\\partial}{\\partial n_i}((x_{c_i}-x_j(s_j))^2+(y_{c_i}-y_j(s_j))^2)]}{((x_{c_i}-x_j(s_j))^2+(y_{c_i}-y_j(s_j)^2)^2}\\\\\n",
      "$$\n",
      "\n",
      "$$\n",
      "= \\frac{[(y_{c_i}-y_j(s_j))^2-(x_{c_i}-x_j(s_j))^2]\\frac{\\partial x_{c_i}}{\\partial n_i} - [2(x_{c_i}-x_j(s_j))(y_{c_i}-y_j(s_j))]\\frac{\\partial y_{c_i}}{\\partial n_i}}{[(x_{c_i}-x_j(s_j))^2+(y_{c_i}-y_j(s_j)^2]^2}\n",
      "$$\n",
      "\n",
      "where $\\frac{\\partial x_{c_i}}{\\partial n_i} = \\cos \\beta_i$ and $\\frac{\\partial y_{c_i}}{\\partial n_i} = \\sin \\beta_i$, and:\n",
      "\n",
      "$$x_j(s_j) = x_{b_j} - s_j \\sin \\beta_j$$\n",
      "\n",
      "$$y_j(s_j) = y_{b_j} + s_j \\cos \\beta_j$$\n",
      "\n"
     ]
    },
    {
     "cell_type": "markdown",
     "metadata": {},
     "source": [
      "A function is created to solve the integral using the integrate from the scipy library. "
     ]
    },
    {
     "cell_type": "code",
     "collapsed": false,
     "input": [
      "def I(xci,yci,pj,dxdz,dydz):\n",
      "    def func(s):\n",
      "        return(((yci-(pj.yb+cos(pj.beta)*s))**2\\\n",
      "                -(xci-(pj.xb-sin(pj.beta)*s))**2)*dxdz\\\n",
      "                -(2*(xci-(pj.xb-sin(pj.beta)*s))*(yci-(pj.yb+cos(pj.beta)*s)))*dydz)\\\n",
      "                /(((xci-(pj.xb-sin(pj.beta)*s))**2\\\n",
      "                +(yci-(pj.yb+cos(pj.beta)*s))**2)**2)\n",
      "    return integrate.quad(lambda s:func(s),0.,pj.length)[0]"
     ],
     "language": "python",
     "metadata": {},
     "outputs": [],
     "prompt_number": 51
    },
    {
     "cell_type": "heading",
     "level": 2,
     "metadata": {},
     "source": [
      "Enforcing the Kutta condition with a wake panel"
     ]
    },
    {
     "cell_type": "markdown",
     "metadata": {},
     "source": [
      "The Kutta condition states that the flow at the trailing edge must leave smoothly or that the stagnation point should be located at the trailing edge. In the previous lesson we showed how the condition implies the pressure on the upper and lower surface at the trailing edge should be equal and therefore the tangential velocities at the trailing edge should be equivalent. In order to enforce the Kutta condition with doublet panels and a wake panel, the difference between the doublet strength above the panel and the initial panel has to be equivalent to the strength of the wake panel. \n"
     ]
    },
    {
     "cell_type": "code",
     "collapsed": false,
     "input": [
      "from IPython.display import Image\n",
      "Image(filename='C:/Users/Kat/Documents/GitHub/AeroHydro/Final Project/EnforcingKC.png')"
     ],
     "language": "python",
     "metadata": {},
     "outputs": [
      {
       "metadata": {},
       "output_type": "pyout",
       "png": "[encoded data removed]",
       "prompt_number": 52,
       "text": [
        "<IPython.core.display.Image at 0x9601668>"
       ]
      }
     ],
     "prompt_number": 52
    },
    {
     "cell_type": "markdown",
     "metadata": {},
     "source": [
      "Or as shown in the diagram above, the sum of the upper panel, lower panel, and wake's panel's strength should be equal to zero. Initially because we were adding a wake panel we had N equation with N+1 unknowns. With the Kutta condition we add an equation which results in N+1 equations and unknowns. When the matrix system us built in the next section we will point out how to include the kutta condition in the matrix of coefficients. "
     ]
    },
    {
     "cell_type": "markdown",
     "metadata": {},
     "source": [
      "#####References \n",
      "\n",
      "J.Katz and A.Plotkin, \"Low-Speed Aerodynamics\", 2nd ed., Cambridge University Press, New York (2001)."
     ]
    },
    {
     "cell_type": "heading",
     "level": 2,
     "metadata": {},
     "source": [
      "Building the linear system "
     ]
    },
    {
     "cell_type": "markdown",
     "metadata": {},
     "source": [
      "By using the Kutta condition we now have an equal amount of equations and unknowns. So we will build our doublet Matrix which includes the kutta condition and will have a size of (N+1) x (N+1). The Kutta condition will also be enforced by assigning the last value of the right hand side array equal to zero. "
     ]
    },
    {
     "cell_type": "code",
     "collapsed": false,
     "input": [
      "from IPython.display import Image\n",
      "Image(filename='C:/Users/Kat/Documents/GitHub/AeroHydro/Final Project/Matrix_Image.png')"
     ],
     "language": "python",
     "metadata": {},
     "outputs": [
      {
       "metadata": {},
       "output_type": "pyout",
       "png": "[encoded data removed]",
       "prompt_number": 53,
       "text": [
        "<IPython.core.display.Image at 0x9601cc0>"
       ]
      }
     ],
     "prompt_number": 53
    },
    {
     "cell_type": "markdown",
     "metadata": {},
     "source": [
      "We begin by building matrix for the doublet coefficients. "
     ]
    },
    {
     "cell_type": "code",
     "collapsed": false,
     "input": [
      "#---Function to build doublet matrix---\n",
      "def doubletMatrix(p):\n",
      "    N = len(p)\n",
      "    A = np.empty((N+1,N+1),dtype=float)\n",
      "    np.fill_diagonal(A,0.5)\n",
      "    for i in range (N): \n",
      "        for j in range (N): \n",
      "            if(i!=j):\n",
      "                A[i,j] = 0.5/pi * I(p[i].xc, p[i].yc, p[j],\\\n",
      "                                    +cos(p[i].beta),+sin(p[i].beta))\n",
      "            if(i==N):\n",
      "                A[i,:] = 0 \n",
      "                A[i,0] = -1            #Apply kutta condition \n",
      "                A[i,N-1] = 1\n",
      "                A[i,N] = -1 \n",
      "    return A \n"
     ],
     "language": "python",
     "metadata": {},
     "outputs": [],
     "prompt_number": 54
    },
    {
     "cell_type": "markdown",
     "metadata": {},
     "source": [
      "Then we build the right hand side and remember to enforce the kutta condition. "
     ]
    },
    {
     "cell_type": "code",
     "collapsed": false,
     "input": [
      "#----Function to build RHS ------\n",
      "def buildRHS(p,fs):\n",
      "    N = len(p)\n",
      "    B = np.zeros(N+1,dtype = float)\n",
      "    for i in range(N):\n",
      "        B[i] = -fs.uinf*cos(fs.alpha-p[i].beta)\n",
      "        B[N] = 0                                   #Kutta Condition\n",
      "    return B"
     ],
     "language": "python",
     "metadata": {},
     "outputs": [],
     "prompt_number": 55
    },
    {
     "cell_type": "markdown",
     "metadata": {},
     "source": [
      "Finally, we use build the system of linear equations using linalg. "
     ]
    },
    {
     "cell_type": "code",
     "collapsed": false,
     "input": [
      "#----Build System---------\n",
      "A = doubletMatrix(panel) \n",
      "B = buildRHS(panel,freestream) \n",
      "\n",
      "\n",
      "#---Solve system of linear equations ----\n",
      "var = np.linalg.solve(A,B)\n",
      "for i in range (len(panel)):\n",
      "    panel[i].K = var[i]"
     ],
     "language": "python",
     "metadata": {},
     "outputs": [],
     "prompt_number": "*"
    },
    {
     "cell_type": "heading",
     "level": 2,
     "metadata": {},
     "source": [
      "Plot the streamlines "
     ]
    },
    {
     "cell_type": "markdown",
     "metadata": {},
     "source": [
      "The stream lines are plotting by solving for the u and v velocity components. The integral function we used earlier can be used again but this time we set the partial derivative of x equal to zero if solcing for the v component and the partial derivative of y equal to zero if we are solving for the u component. Also, we generate a mesh grid. "
     ]
    },
    {
     "cell_type": "code",
     "collapsed": false,
     "input": [
      "#-----Generate stream lines-------------\n",
      "\n",
      "def getVelocityField(panel,freestream,K,X,Y):\n",
      "    Nx,Ny = X.shape\n",
      "    u,v = np.empty((Nx,Ny),dtype=float),np.empty((Nx,Ny),dtype=float)\n",
      "    for i in range(Nx):\n",
      "        for j in range(Ny):\n",
      "            u[i,j] = freestream.uinf*cos(freestream.alpha)\\\n",
      "                    +0.5/pi*sum([p.K*I(X[i,j],Y[i,j],p,1,0) for p in panel])\n",
      "            \n",
      "            v[i,j] = freestream.uinf*sin(freestream.alpha)\\\n",
      "                    +0.5/pi*sum([p.K*I(X[i,j],Y[i,j],p,0,1) for p in panel])\n",
      "    return u,v\n",
      "\n",
      "#definition of mesh grid\n",
      "Nx,Ny = 20,20\n",
      "valX,valY = 1.0,2.0\n",
      "\n",
      "xmin,xmax = min([p.xa for p in panel]),max([p.xa for p in panel])\n",
      "ymin,ymax = min([p.ya for p in panel]),max([p.ya for p in panel])\n",
      "\n",
      "xstart,xend = xmin-valX*(xmax-xmin), 2\n",
      "ystart,yend = ymin-valY*(ymax-ymin),ymax+valY*(ymax-ymin)\n",
      "\n",
      "X,Y = np.meshgrid(np.linspace(xstart,xend,Nx),np.linspace(ystart,yend,Ny))\n",
      "\n",
      "# get the velicity field on the mesh grid\n",
      "u,v = getVelocityField(panel,freestream,gamma,X,Y)\n"
     ],
     "language": "python",
     "metadata": {},
     "outputs": [],
     "prompt_number": "*"
    },
    {
     "cell_type": "code",
     "collapsed": false,
     "input": [
      "# plotting the velocity field\n",
      "size=10\n",
      "plt.figure(figsize=(size,(yend-ystart)/(xend-xstart)*size))\n",
      "plt.xlabel('x',fontsize=16)\n",
      "plt.ylabel('y',fontsize=16)\n",
      "\n",
      "plt.streamplot(X,Y,u,v,density=2,linewidth=1,arrowsize=1,arrowstyle='->')\n",
      "plt.fill([p.xa for p in panel],[p.ya for p in panel],'ko-',linewidth=2,zorder=2)\n",
      "plt.xlim(xstart,xend)\n",
      "plt.ylim(ystart,yend)\n",
      "plt.title('Streamlines around a NACA 0012 airfoil, '+r'$\\alpha=$'+str(alpha));\n",
      "plt.show()"
     ],
     "language": "python",
     "metadata": {},
     "outputs": [],
     "prompt_number": "*"
    },
    {
     "cell_type": "code",
     "collapsed": false,
     "input": [
      "from IPython.core.display import HTML\n",
      "def css_styling():\n",
      "    styles = open('C:/Users/Kat/Documents/GitHub/AeroHydro/Final Project/styles/custom.css', 'r').read()\n",
      "    return HTML(styles)\n",
      "css_styling()\n"
     ],
     "language": "python",
     "metadata": {},
     "outputs": [],
     "prompt_number": "*"
    },
    {
     "cell_type": "code",
     "collapsed": false,
     "input": [],
     "language": "python",
     "metadata": {},
     "outputs": [],
     "prompt_number": "*"
    }
   ],
   "metadata": {}
  }
 ]
}