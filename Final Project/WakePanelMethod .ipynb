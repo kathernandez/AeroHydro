{
 "metadata": {
  "name": ""
 },
 "nbformat": 3,
 "nbformat_minor": 0,
 "worksheets": [
  {
   "cells": [
    {
     "cell_type": "heading",
     "level": 1,
     "metadata": {},
     "source": [
      "Wake Panel Method "
     ]
    },
    {
     "cell_type": "markdown",
     "metadata": {},
     "source": [
      "In lesson 11, we learned how to implement source-vortex panel method. The method begins with using source sheets as a way to model flow around an object however lift is not incorporated. In order to include lift, we need to have circulation. The right amount of circulation is then achieved by satisfying the Kutta-condition. The circulation is introduced by placing a vortex-sheet at every panel with the same constant vortex strength. For this lesson instead of using souce-vortex sheets we will use doublet sheets. Since doublets have circulation, we will keep lift without the need to superimpose another singularity element. \n",
      "\n",
      "Now we want to look at flow down stream of the airfoil, in particular, the wake behind the airfoil. There are two main techniques typically used to model wake shapes(source Jianfang):\n",
      "\n",
      "   1. Spatial wake-relaxation method \n",
      "   2. Time stepping method \n",
      "\n",
      "The wake shapes we are looking at are free-wakes because they apply to incompressible flow where the viscous forces are considered negligable. Also, we are using free wakes because there should be no side forces in order to conserve momentum. We will assume the flow is steady therefore a spatial wake-relation method should be used. Time stepping methods are generally used to model wake forms for unsteady flow. Additionally, we can model the wake through a more simple method, single wake panel methods aligned with the free stream. Although this method has shown to be less accurate, it serves as a simplified introduction to modeling the wake. After completeing this lesson, the method's accuracy can be improved by having the panels be aligned with the bisector angle of the trailing edge instead and then ultimately apply a wake-relaxation method(source Blower). \n",
      "\n",
      "Constant strength doublet panels will be used in the single wake panel method. Therefore, in this lesson we will learn two main ideas, how to implement doublet panels and how to incorporate the wake behind the airfoil. "
     ]
    },
    {
     "cell_type": "heading",
     "level": 2,
     "metadata": {},
     "source": [
      "Discretization into panels"
     ]
    },
    {
     "cell_type": "markdown",
     "metadata": {},
     "source": [
      "We begin by importing our libraries as we have done in all of our previous lessons. Remember to also include SciPy since we be using the integrate function. "
     ]
    },
    {
     "cell_type": "code",
     "collapsed": false,
     "input": [
      "import numpy as np\n",
      "from scipy import integrate\n",
      "from math import *\n",
      "import matplotlib.pyplot as plt "
     ],
     "language": "python",
     "metadata": {},
     "outputs": [],
     "prompt_number": 13
    },
    {
     "cell_type": "markdown",
     "metadata": {},
     "source": [
      "Now we import the NACA0012 geometry file from a data file. Note, alter the directory path to load the dat file successfully. In this case I have included the entire path from my computer to get the file to load. "
     ]
    },
    {
     "cell_type": "code",
     "collapsed": false,
     "input": [
      "#read of the geometry from the a data file \n",
      "coords = np.loadtxt('C:/Users/Kat/Documents/Aero_Hydro/AeroPython-master/resources/naca0012.dat')\n",
      "xp,yp = coords[:,0], coords[:,1]\n",
      "\n",
      "# plotting the geometry \n",
      "%matplotlib inline \n",
      "valX,valY = 0.1,0.2\n",
      "xmin,xmax = min(xp),max(xp)\n",
      "ymin,ymax = min(yp),max(yp)\n",
      "xstart,xend = xmin-valX*(xmax-xmin),xmax+valX*(xmax-xmin)\n",
      "ystart,yend = ymin-valY*(ymax-ymin),ymax+valY*(ymax-ymin)\n",
      "size = 10\n",
      "plt.figure(figsize=(size,(yend-ystart)/(xend-xstart)*size))\n",
      "plt.grid(True)\n",
      "plt.xlabel('x',fontsize=16)\n",
      "plt.ylabel('y',fontsize=16)\n",
      "plt.xlim(xstart,xend)\n",
      "plt.ylim(ystart,yend)\n",
      "plt.plot(xp,yp,'k-',linewidth=2);\n"
     ],
     "language": "python",
     "metadata": {},
     "outputs": [
      {
       "metadata": {},
       "output_type": "display_data",
       "png": "[encoded data removed]",
       "text": [
        "<matplotlib.figure.Figure at 0x945e048>"
       ]
      }
     ],
     "prompt_number": 14
    },
    {
     "cell_type": "markdown",
     "metadata": {},
     "source": [
      "The airfoil geometry will be broken down into N panels as done in lesson 11.However, in lesson 11 the panels are defined from the upper suface to the lower surface. In order to keep the normal vectors of the wake panels pointing up we need to change the direction of the panel definition to go from the lower surface to the upper surface. Below, the code from lesson 11 has been modified in the following ways (source Olivier): \n",
      "1. Redefine self.beta in the class Panel we create\n",
      "2. Reverse the arrays xp and yp\n",
      "\n",
      "A class is created to store the panel's information and to define the control point which will be the midpoint of the panel. "
     ]
    },
    {
     "cell_type": "code",
     "collapsed": false,
     "input": [
      "class Panel: \n",
      "    def __init__(self,xa,ya,xb,yb):\n",
      "        self.xa,self.ya = xa,ya                    #1st end-point \n",
      "        self.xb,self.yb = xb,yb                    #2nd end-point \n",
      "        self.xc,self.yc = (xa+xb)/2,(ya+yb)/2    #control point \n",
      "        self.length = sqrt((xb-xa)**2+(yb-ya)**2)  #length of the panel \n",
      "        \n",
      "        #orientation of the panel\n",
      "        #if (xb-xa<=0.): self.beta = acos((yb-ya)/self.length)\n",
      "        #elif(xb-xa>0.): self.beta = pi + acos(-(yb-ya)/self.length)\n",
      "        if (xb>xa): self.beta = acos((ya-yb)/self.length)\n",
      "        else: self.beta = pi+acos((yb-ya)/self.length)\n",
      "        \n",
      "        #locations of the panel \n",
      "        if (self.beta<=pi): self.loc = 'extrados'\n",
      "        else: self.loc = 'intrados'\n",
      "        \n",
      "        self.K = 0.       #doublet strength \n",
      "        self.vt = 0.     #tangential velocity \n",
      "        self.Cp = 0.    #pressure coefiicient "
     ],
     "language": "python",
     "metadata": {},
     "outputs": [],
     "prompt_number": 15
    },
    {
     "cell_type": "markdown",
     "metadata": {},
     "source": [
      "Now we use a create a function to discretize the airfoil geometry into N panelsand when we extend the arrays using np.append we make sure the arrays go from the lower surface to the upper surface. "
     ]
    },
    {
     "cell_type": "code",
     "collapsed": false,
     "input": [
      "def definePanels(N,xp,yp):\n",
      "    R = (max(xp)-min(xp))/2                                 #radius of circle \n",
      "    xcenter = (max(xp)+min(xp))/2                           #x-coord of center    \n",
      "    xcircle = xcenter + R*np.cos(np.linspace(0,2*pi,N+1))   #x-coord of the circle points\n",
      "    \n",
      "    x = np.copy(xcircle) #projection of the xcoord on the surface \n",
      "    y = np.empty_like(x) #initialization of the y-coord Numpy Array \n",
      "    \n",
      "    #Extend arrays using np.append in the CLOCKWISE direction \n",
      "    xp,yp = np.append(xp[0],xp[::-1]),np.append(yp[0],yp[::-1])\n",
      "    \n",
      "    I = 0\n",
      "    for i in range (N):\n",
      "        while (I<len(xp)-1):\n",
      "            if(xp[I]<=x[i]<=xp[I+1] or xp[I+1]<=x[i]<=xp[I]): break\n",
      "            else: I += 1\n",
      "        a = (yp[I+1]-yp[I])/(xp[I+1]-xp[I])\n",
      "        b = yp[I+1]-a*xp[I+1]\n",
      "        y[i] = a*x[i]+b              #interpolation being used to get y-coordinates \n",
      "    y[N] = y[0]\n",
      "    \n",
      "    panel = np.empty(N,dtype=object)\n",
      "    for i in range(N):\n",
      "        panel[i] = Panel(x[i],y[i],x[i+1],y[i+1])\n",
      "    return panel\n",
      "\n"
     ],
     "language": "python",
     "metadata": {},
     "outputs": [],
     "prompt_number": 16
    },
    {
     "cell_type": "raw",
     "metadata": {},
     "source": [
      "The definePanels function can now be used to discretize the geometry after defining the number of panels that are going to be used. "
     ]
    },
    {
     "cell_type": "code",
     "collapsed": false,
     "input": [
      "N = 20  #number of panels\n",
      "panel = definePanels(N,xp,yp) #discretization of the geometry into panels \n",
      "\n",
      "\n",
      "valX,valY = 0.1,0.2\n",
      "xmin,xmax = min([p.xa for p in panel]), max([p.xa for p in panel])\n",
      "ymin,ymax = min([p.ya for p in panel]),max([p.ya for p in panel])\n",
      "xstart,xend = xmin-valX*(xmax-xmin),xmax+valX*(xmax-xmin)\n",
      "ystart,yend = ymin-valY*(ymax-ymin),ymax+valY*(ymax-ymin)\n",
      "size = 10\n",
      "plt.figure(figsize=(size,(yend-ystart)/(xend-xstart)*size))\n",
      "size = 10\n",
      "plt.grid(True) \n",
      "plt.xlabel('x',fontsize=16)\n",
      "plt.ylabel('y',fontsize=16)\n",
      "plt.xlim(xstart,xend)\n",
      "plt.ylim(ystart,yend)\n",
      "plt.plot(xp,yp,'k-',linewidth=2)\n",
      "plt.plot(np.append([p.xa for p in panel],panel[0].xa),\\\n",
      "        np.append([p.ya for p in panel],panel[0].ya),\\\n",
      "        linestyle='-',linewidth=1,marker='o', markersize=6,color='r'); \n",
      "plt.show()\n"
     ],
     "language": "python",
     "metadata": {},
     "outputs": [
      {
       "metadata": {},
       "output_type": "display_data",
       "png": "[encoded data removed]",
       "text": [
        "<matplotlib.figure.Figure at 0x956c518>"
       ]
      }
     ],
     "prompt_number": 17
    },
    {
     "cell_type": "raw",
     "metadata": {},
     "source": [
      "Introduce free stream conditions (add a short description) "
     ]
    },
    {
     "cell_type": "code",
     "collapsed": false,
     "input": [
      "class Freestream: \n",
      "    def __init__(self,uinf,alpha):\n",
      "        self.uinf = uinf                #velocity magnitude \n",
      "        self.alpha = alpha*pi/180       #angle of attack (in degrees) \n",
      "        \n",
      "#definition of the object freestream\n",
      "uinf = 1.0          #freestream speed \n",
      "alpha = 0.0       #angle of attack (in degrees) \n",
      "freestream = Freestream(uinf,alpha)     #instantation of the object's freedom "
     ],
     "language": "python",
     "metadata": {},
     "outputs": [],
     "prompt_number": 18
    },
    {
     "cell_type": "raw",
     "metadata": {},
     "source": [
      "Perhaps include a picture of of the airfoil discretized with the discretization of the wake (showing how the normal vectors are pointing up for the wake panels).."
     ]
    },
    {
     "cell_type": "heading",
     "level": 2,
     "metadata": {},
     "source": [
      "Flow tangency boundary condition "
     ]
    },
    {
     "cell_type": "markdown",
     "metadata": {},
     "source": [
      "At the control points which are the center point of the panels the flow tangency condition is enforced in order to approximately make the body geometry correspond to a dividing streamline. Also, by using more panels we improve the approximation. The flow tangency bounday condition is a Neumman bounday condition meaning it specifies the value of the derivative of the solution on the boundary. Since the velocity in the normal direction needs to equal to zero in order to enforce the flow tangency condition, the derivative of the flow potential in the normal direction is calculated. (*instert equation here) \n",
      "\n",
      "Before we even do that however, the potential of the flow needs to be derived. In previous lessons, the potential of a source and vortex were derived. For doublets in lesson 4, the velocity components were derived from the stream functioon. We will now use the velocity components to obtain the potential of a doublet since u(x,y) = partial phi/partial x, therefore phi = integral of partial phi/partial x. (**insert equations here) \n",
      "\n",
      "We already know from the previous lesson the potential of the free stream velocity as: \n",
      "\n",
      "$$\\phi\\left(x,y\\right) = V_\\infty \\cos \\alpha x + V_\\infty \\sin \\alpha y$$ \n",
      "\n",
      "So the total potential of the system is: \n",
      "\n",
      "\n",
      "\n",
      "Now we are ready to take the derivative of the flow potential in the normal direction and setting it equal to zero. \n",
      "**insert derivation: begin with the free stream (where we used the trig identity), then show the derivation of the double potential (where we used the qoutient rule) \n",
      "\n",
      "-> end with stating what partial x/partial n, and partial y and partial n are equal to and what xj and yj are equal to. \n",
      "\n",
      "A function is created to evaluate the integral. \n"
     ]
    },
    {
     "cell_type": "code",
     "collapsed": false,
     "input": [
      "def I(xci,yci,pj,dxdz,dydz):\n",
      "    def func(s):\n",
      "        return(+((yci-(pj.yb+cos(pj.beta)*s))**2\\\n",
      "                -(xci-(pj.xb-sin(pj.beta)*s))**2)*dxdz\\\n",
      "                -(2*(xci-(pj.xb-sin(pj.beta)*s))*(yci-(pj.yb+cos(pj.beta)*s)))*dydz)\\\n",
      "                /(((xci-(pj.xb-sin(pj.beta)*s))**2\\\n",
      "                +(yci-(pj.yb+cos(pj.beta)*s))**2)**2)\n",
      "    return integrate.quad(lambda s:func(s),0.,pj.length)[0]"
     ],
     "language": "python",
     "metadata": {},
     "outputs": [],
     "prompt_number": 20
    },
    {
     "cell_type": "heading",
     "level": 2,
     "metadata": {},
     "source": [
      "Enforcing the Kutta condition "
     ]
    },
    {
     "cell_type": "markdown",
     "metadata": {},
     "source": [
      "Give an overview of the enforcing the kutta condition and show how the strength of the doublet panel is equal to the difference between the strenth of the upper and lower panel. Include a picture. Also, mention how the wake downstream helps keep conservation of momentum. "
     ]
    },
    {
     "cell_type": "heading",
     "level": 2,
     "metadata": {},
     "source": [
      "Building the linear system "
     ]
    },
    {
     "cell_type": "code",
     "collapsed": false,
     "input": [],
     "language": "python",
     "metadata": {},
     "outputs": []
    }
   ],
   "metadata": {}
  }
 ]
}