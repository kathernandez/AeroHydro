{
 "metadata": {
  "name": ""
 },
 "nbformat": 3,
 "nbformat_minor": 0,
 "worksheets": [
  {
   "cells": [
    {
     "cell_type": "heading",
     "level": 1,
     "metadata": {},
     "source": [
      "Wake Panel Method "
     ]
    },
    {
     "cell_type": "markdown",
     "metadata": {},
     "source": [
      "In lesson 11, we learned how to implement source-vortex panel method. The method begins with using source sheets as a way to model flow around an object however lift is not incorporated. In order to include lift, we need to have circulation. The right amount of circulation is then achieved by satisfying the Kutta-condition. The circulation is introduced by placing a vortex-sheet at every panel with the same constant vortex strength. For this lesson instead of using souce-vortex sheets we will use doublet sheets. Since doublets have circulation, we will keep lift without the need to superimpose another singularity element. \n",
      "\n",
      "Now we want to look at flow down stream of the airfoil, in particular, the wake behind the airfoil. There are two main techniques typically used to model wake shapes(source Jianfang):\n",
      "\n",
      "   1. Spatial wake-relaxation method \n",
      "   2. Time stepping method \n",
      "\n",
      "The wake shapes we are looking at are free-wakes because they apply to incompressible flow where the viscous forces are considered negligable. Also, we are using free wakes because there should be no side forces in order to conserve momentum. We will assume the flow is steady therefore a spatial wake-relation method should be used. Time stepping methods are generally used to model wake forms for unsteady flow. Additionally, we can model the wake through a more simple method, single wake panel methods aligned with the free stream. Although this method has shown to be less accurate, it serves as a simplified introduction to modeling the wake. After completeing this lesson, the method's accuracy can be improved by having the panels be aligned with the bisector angle of the trailing edge instead and then ultimately apply a wake-relaxation method(source Blower). \n",
      "\n",
      "Constant strength doublet panels will be used in the single wake panel method. Therefore, in this lesson we will learn two main ideas, how to implement doublet panels and how to incorporate the wake behind the airfoil. "
     ]
    },
    {
     "cell_type": "heading",
     "level": 2,
     "metadata": {},
     "source": [
      "Discretization into panels"
     ]
    },
    {
     "cell_type": "markdown",
     "metadata": {},
     "source": [
      "We begin by importing our libraries as we have done in all of our previous lessons. Remember to also include SciPy since we will be using the integrate function again. "
     ]
    },
    {
     "cell_type": "code",
     "collapsed": false,
     "input": [
      "import numpy as np\n",
      "from scipy import integrate\n",
      "from math import *\n",
      "import matplotlib.pyplot as plt "
     ],
     "language": "python",
     "metadata": {},
     "outputs": [],
     "prompt_number": 13
    },
    {
     "cell_type": "markdown",
     "metadata": {},
     "source": [
      "Now we import the NACA0012 geometry file from a data file. Note, alter the directory path to load the dat file successfully. In this case I have included the entire path from my computer to get the file to load. "
     ]
    },
    {
     "cell_type": "code",
     "collapsed": false,
     "input": [
      "#read of the geometry from the a data file \n",
      "coords = np.loadtxt('C:/Users/Kat/Documents/Aero_Hydro/AeroPython-master/resources/naca0012.dat')\n",
      "xp,yp = coords[:,0], coords[:,1]\n",
      "\n",
      "# plotting the geometry \n",
      "%matplotlib inline \n",
      "valX,valY = 0.1,0.2\n",
      "xmin,xmax = min(xp),max(xp)\n",
      "ymin,ymax = min(yp),max(yp)\n",
      "xstart,xend = xmin-valX*(xmax-xmin),xmax+valX*(xmax-xmin)\n",
      "ystart,yend = ymin-valY*(ymax-ymin),ymax+valY*(ymax-ymin)\n",
      "size = 10\n",
      "plt.figure(figsize=(size,(yend-ystart)/(xend-xstart)*size))\n",
      "plt.grid(True)\n",
      "plt.xlabel('x',fontsize=16)\n",
      "plt.ylabel('y',fontsize=16)\n",
      "plt.xlim(xstart,xend)\n",
      "plt.ylim(ystart,yend)\n",
      "plt.plot(xp,yp,'k-',linewidth=2);\n"
     ],
     "language": "python",
     "metadata": {},
     "outputs": [
      {
       "metadata": {},
       "output_type": "display_data",
       "png": "[encoded data removed]",
       "text": [
        "<matplotlib.figure.Figure at 0x945e048>"
       ]
      }
     ],
     "prompt_number": 14
    },
    {
     "cell_type": "markdown",
     "metadata": {},
     "source": [
      "The airfoil geometry will be broken down into N panels as done in lesson 11.However, in lesson 11 the panels are defined from the upper suface to the lower surface. In order to keep the normal vectors of the wake panels pointing up we need to change the direction of the panel definition to go from the lower surface to the upper surface. Below, the code from lesson 11 has been modified in the following ways (source Olivier): \n",
      "        1. Redefine self.beta in the class Panel we create\n",
      "        and 2. Reverse the arrays xp and yp\n",
      "\n",
      "A class is created to store the panel's information and to define the control point which will be the midpoint of the panel. "
     ]
    },
    {
     "cell_type": "code",
     "collapsed": false,
     "input": [
      "class Panel: \n",
      "    def __init__(self,xa,ya,xb,yb):\n",
      "        self.xa,self.ya = xa,ya                    #1st end-point \n",
      "        self.xb,self.yb = xb,yb                    #2nd end-point \n",
      "        self.xc,self.yc = (xa+xb)/2,(ya+yb)/2    #control point \n",
      "        self.length = sqrt((xb-xa)**2+(yb-ya)**2)  #length of the panel \n",
      "        \n",
      "        #orientation of the panel (from lower surface to upper surface)\n",
      "        if (xb>xa): self.beta = acos((ya-yb)/self.length)\n",
      "        else: self.beta = pi+acos((yb-ya)/self.length)\n",
      "        \n",
      "        #locations of the panel \n",
      "        if (self.beta<=pi): self.loc = 'extrados'\n",
      "        else: self.loc = 'intrados'\n",
      "        \n",
      "        self.K = 0.       #doublet strength \n",
      "        self.vt = 0.     #tangential velocity \n",
      "        self.Cp = 0.    #pressure coefiicient "
     ],
     "language": "python",
     "metadata": {},
     "outputs": [],
     "prompt_number": 15
    },
    {
     "cell_type": "markdown",
     "metadata": {},
     "source": [
      "Now we use a create a function to discretize the airfoil geometry into N panels and when we extend the arrays using np.append we make sure the arrays go from the lower surface to the upper surface. "
     ]
    },
    {
     "cell_type": "code",
     "collapsed": false,
     "input": [
      "def definePanels(N,xp,yp):\n",
      "    R = (max(xp)-min(xp))/2                                 #radius of circle \n",
      "    xcenter = (max(xp)+min(xp))/2                           #x-coord of center    \n",
      "    xcircle = xcenter + R*np.cos(np.linspace(0,2*pi,N+1))   #x-coord of the circle pts\n",
      "    \n",
      "    x = np.copy(xcircle) #projection of the xcoord on the surface \n",
      "    y = np.empty_like(x) #initialization of the y-coord Numpy Array \n",
      "    \n",
      "    #Extend arrays using np.append in the CLOCKWISE direction \n",
      "    xp,yp = np.append(xp[0],xp[::-1]),np.append(yp[0],yp[::-1])\n",
      "    \n",
      "    I = 0\n",
      "    for i in range (N):\n",
      "        while (I<len(xp)-1):\n",
      "            if(xp[I]<=x[i]<=xp[I+1] or xp[I+1]<=x[i]<=xp[I]): break\n",
      "            else: I += 1\n",
      "        a = (yp[I+1]-yp[I])/(xp[I+1]-xp[I])\n",
      "        b = yp[I+1]-a*xp[I+1]\n",
      "        y[i] = a*x[i]+b              #interpolation being used to get y-coordinates \n",
      "    y[N] = y[0]\n",
      "    \n",
      "    panel = np.empty(N,dtype=object)\n",
      "    for i in range(N):\n",
      "        panel[i] = Panel(x[i],y[i],x[i+1],y[i+1])\n",
      "    return panel"
     ],
     "language": "python",
     "metadata": {},
     "outputs": [],
     "prompt_number": 2
    },
    {
     "cell_type": "markdown",
     "metadata": {},
     "source": [
      "The definePanels function can now be used to discretize the geometry after defining the number of panels that are going to be used. "
     ]
    },
    {
     "cell_type": "code",
     "collapsed": false,
     "input": [
      "N = 20  #number of panels\n",
      "panel = definePanels(N,xp,yp) #discretization of the geometry into panels \n",
      "\n",
      "\n",
      "valX,valY = 0.1,0.2\n",
      "xmin,xmax = min([p.xa for p in panel]), max([p.xa for p in panel])\n",
      "ymin,ymax = min([p.ya for p in panel]),max([p.ya for p in panel])\n",
      "xstart,xend = xmin-valX*(xmax-xmin),xmax+valX*(xmax-xmin)\n",
      "ystart,yend = ymin-valY*(ymax-ymin),ymax+valY*(ymax-ymin)\n",
      "size = 10\n",
      "plt.figure(figsize=(size,(yend-ystart)/(xend-xstart)*size))\n",
      "size = 10\n",
      "plt.grid(True) \n",
      "plt.xlabel('x',fontsize=16)\n",
      "plt.ylabel('y',fontsize=16)\n",
      "plt.xlim(xstart,xend)\n",
      "plt.ylim(ystart,yend)\n",
      "plt.plot(xp,yp,'k-',linewidth=2)\n",
      "plt.plot(np.append([p.xa for p in panel],panel[0].xa),\\\n",
      "        np.append([p.ya for p in panel],panel[0].ya),\\\n",
      "        linestyle='-',linewidth=1,marker='o', markersize=6,color='r'); \n",
      "plt.show()\n"
     ],
     "language": "python",
     "metadata": {},
     "outputs": [
      {
       "ename": "NameError",
       "evalue": "name 'xp' is not defined",
       "output_type": "pyerr",
       "traceback": [
        "\u001b[1;31m---------------------------------------------------------------------------\u001b[0m\n\u001b[1;31mNameError\u001b[0m                                 Traceback (most recent call last)",
        "\u001b[1;32m<ipython-input-3-56b865ecbb0d>\u001b[0m in \u001b[0;36m<module>\u001b[1;34m()\u001b[0m\n\u001b[0;32m      1\u001b[0m \u001b[0mN\u001b[0m \u001b[1;33m=\u001b[0m \u001b[1;36m20\u001b[0m  \u001b[1;31m#number of panels\u001b[0m\u001b[1;33m\u001b[0m\u001b[0m\n\u001b[1;32m----> 2\u001b[1;33m \u001b[0mpanel\u001b[0m \u001b[1;33m=\u001b[0m \u001b[0mdefinePanels\u001b[0m\u001b[1;33m(\u001b[0m\u001b[0mN\u001b[0m\u001b[1;33m,\u001b[0m\u001b[0mxp\u001b[0m\u001b[1;33m,\u001b[0m\u001b[0myp\u001b[0m\u001b[1;33m)\u001b[0m \u001b[1;31m#discretization of the geometry into panels\u001b[0m\u001b[1;33m\u001b[0m\u001b[0m\n\u001b[0m\u001b[0;32m      3\u001b[0m \u001b[1;33m\u001b[0m\u001b[0m\n\u001b[0;32m      4\u001b[0m \u001b[1;33m\u001b[0m\u001b[0m\n\u001b[0;32m      5\u001b[0m \u001b[0mvalX\u001b[0m\u001b[1;33m,\u001b[0m\u001b[0mvalY\u001b[0m \u001b[1;33m=\u001b[0m \u001b[1;36m0.1\u001b[0m\u001b[1;33m,\u001b[0m\u001b[1;36m0.2\u001b[0m\u001b[1;33m\u001b[0m\u001b[0m\n",
        "\u001b[1;31mNameError\u001b[0m: name 'xp' is not defined"
       ]
      }
     ],
     "prompt_number": 3
    },
    {
     "cell_type": "raw",
     "metadata": {},
     "source": [
      "Introduce free stream conditions (add a short description) "
     ]
    },
    {
     "cell_type": "code",
     "collapsed": false,
     "input": [
      "class Freestream: \n",
      "    def __init__(self,uinf,alpha):\n",
      "        self.uinf = uinf                #velocity magnitude \n",
      "        self.alpha = alpha*pi/180       #angle of attack (in degrees) \n",
      "        \n",
      "#definition of the object freestream\n",
      "uinf = 1.0          #freestream speed \n",
      "alpha = 0.0       #angle of attack (in degrees) \n",
      "freestream = Freestream(uinf,alpha)     #instantation of the object's freedom "
     ],
     "language": "python",
     "metadata": {},
     "outputs": [],
     "prompt_number": 18
    },
    {
     "cell_type": "raw",
     "metadata": {},
     "source": [
      "Perhaps include a picture of of the airfoil discretized with the discretization of the wake (showing how the normal vectors are pointing up for the wake panels).."
     ]
    },
    {
     "cell_type": "heading",
     "level": 2,
     "metadata": {},
     "source": [
      "Flow tangency boundary condition "
     ]
    },
    {
     "cell_type": "markdown",
     "metadata": {},
     "source": [
      "At the control points which are the center point of the panels the flow tangency condition is enforced in order to approximately make the body geometry correspond to a dividing streamline. Also, by using more panels we improve the approximation. The flow tangency bounday condition is a Neumman bounday condition meaning it specifies the value of the derivative of the solution on the boundary. Since the velocity in the normal direction needs to equal to zero in order to enforce the flow tangency condition, the derivative of the flow potential in the normal direction is calculated. (*instert equation here) \n",
      "\n",
      "Before we even do that however, the potential of the flow needs to be derived. In previous lessons, the potential of a source and vortex were derived. For doublets in lesson 4, the velocity components were derived from the stream functioon. We will now use the velocity components to obtain the potential of a doublet since u(x,y) = partial phi/partial x, therefore phi = integral of partial phi/partial x. (**insert equations here) \n",
      "\n",
      "We already know from the previous lesson the potential of the free stream velocity as: \n",
      "\n",
      "$$\\phi_{freestream}\\left(x,y\\right) = V_\\infty \\cos \\alpha x + V_\\infty \\sin \\alpha y$$ \n",
      "\n",
      "So the total potential of the system is: \n",
      "\n",
      "\n",
      "\n",
      "Now we are ready to take the derivative of the flow potential in the normal direction and setting it equal to zero. \n",
      "$$\n",
      "\\begin{align*}\n",
      "\\phi\\left(x_{c_i},y_{c_i}\\right) &= V_\\infty x_{c_i} \\cos \\alpha + V_\\infty y_{c_i} \\sin \\alpha + \\sum_{j=1}^N \\frac{k_j}{2\\pi} \\int_j \\ln \\left(\\frac{x_{c_i}-x_j(s_j)}{(x_{c_i}-x_j(s_j))^2+(y_{c_i}-y_j(s_j))^2} \\right) {\\rm d}s_j \\\\\n",
      "\\end{align*}\n",
      "$$ \n",
      "\n",
      "Now we satisfy the bounday condition \n",
      "$$0 = \\underline{V}\\cdot\\underline{n}_i = \\frac{\\partial}{\\partial n_i} \\left\\{ \\phi\\left(x_{c_i},y_{c_i}\\right) \\right\\}$$\n",
      "\n",
      "So the partial derivative below needs to be computed in order to create the integral function \n",
      "\n",
      "$$\n",
      "0 = V_\\infty \\cos \\left(\\alpha-\\beta_i\\right)+ \\sum_{j=1,j\\neq i}^N \\frac{k_j}{2\\pi} \\int_j \\frac{\\partial}{\\partial n_i} \\left(\\frac{x_{c_i}-x_j(s_j)}{(x_{c_i}-x_j(s_j))^2+(y_{c_i}-y_j(s_j))^2} \\right) {\\rm d}s_j \\\\\n",
      "$$\n",
      "\n",
      "\n",
      "Below, we solve for the integrand by using the product or qoutient rule and combining like terms. \n",
      "\n",
      "$$\n",
      "\\frac{\\partial}{\\partial n_i} \\left( \\frac{x_{c_i}-x_j(s_j)}{(x_{c_i}-x_j(s_j))^2+(y_{c_i}-y_j(s_j))^2} \\right)\n",
      "$$\n",
      "\n",
      "$$\n",
      "=\\frac{(x_{c_i}-x_j(s_j))^2 + (y_{c_i}-y_j(s_j))^2)\\frac{\\partial x_{c_i}}{\\partial n_i} - [(x_{c_i}-x_j(s_j))\\frac{\\partial}{\\partial n_i}((x_{c_i}-x_j(s_j))^2+(y_{c_i}-y_j(s_j))^2)]}{((x_{c_i}-x_j(s_j))^2+(y_{c_i}-y_j(s_j)^2)^2}\\\\\n",
      "$$\n",
      "\n",
      "$$\n",
      "= \\frac{[(y_{c_i}-y_j(s_j))^2-(x_{c_i}-x_j(s_j))^2]\\frac{\\partial x_{c_i}}{\\partial n_i} - [2(x_{c_i}-x_j(s_j))(y_{c_i}-y_j(s_j))]\\frac{\\partial y_{c_i}}{\\partial n_i}}{[(x_{c_i}-x_j(s_j))^2+(y_{c_i}-y_j(s_j)^2]^2}\n",
      "$$\n",
      "\n",
      "where $\\frac{\\partial x_{c_i}}{\\partial n_i} = \\cos \\beta_i$ and $\\frac{\\partial y_{c_i}}{\\partial n_i} = \\sin \\beta_i$, and:\n",
      "\n",
      "$$x_j(s_j) = x_{b_j} - s_j \\sin \\beta_j$$\n",
      "\n",
      "$$y_j(s_j) = y_{b_j} + s_j \\cos \\beta_j$$\n",
      "\n"
     ]
    },
    {
     "cell_type": "heading",
     "level": 2,
     "metadata": {},
     "source": [
      "Enforcing the Kutta condition "
     ]
    },
    {
     "cell_type": "markdown",
     "metadata": {},
     "source": [
      "Give an overview of the enforcing the kutta condition and show how the strength of the doublet panel is equal to the difference between the strenth of the upper and lower panel. Include a picture. Also, mention how the wake downstream helps keep conservation of momentum. "
     ]
    },
    {
     "cell_type": "heading",
     "level": 2,
     "metadata": {},
     "source": [
      "Building the linear system "
     ]
    },
    {
     "cell_type": "code",
     "collapsed": false,
     "input": [
      "from IPython.core.display import HTML\n",
      "def css_styling():\n",
      "    styles = open('C:/Users/Kat/Documents/GitHub/AeroHydro/Final Project/styles/custom.css', 'r').read()\n",
      "    return HTML(styles)\n",
      "css_styling()\n"
     ],
     "language": "python",
     "metadata": {},
     "outputs": [
      {
       "html": [
        "<link href='http://fonts.googleapis.com/css?family=Fenix' rel='stylesheet' type='text/css'>\n",
        "<link href='http://fonts.googleapis.com/css?family=Alegreya+Sans:100,300,400,500,700,800,900,100italic,300italic,400italic,500italic,700italic,800italic,900italic' rel='stylesheet' type='text/css'>\n",
        "<link href='http://fonts.googleapis.com/css?family=Source+Code+Pro:300,400' rel='stylesheet' type='text/css'>\n",
        "<style>\n",
        "    @font-face {\n",
        "        font-family: \"Computer Modern\";\n",
        "        src: url('http://mirrors.ctan.org/fonts/cm-unicode/fonts/otf/cmunss.otf');\n",
        "    }\n",
        "    div.cell{\n",
        "        width:800px;\n",
        "        margin-left:16% !important;\n",
        "        margin-right:auto;\n",
        "    }\n",
        "    h1 {\n",
        "        font-family: 'Alegreya Sans', sans-serif;\n",
        "    }\n",
        "    h2 {\n",
        "        font-family: 'Fenix', serif;\n",
        "    }\n",
        "    h3{\n",
        "\t\tfont-family: 'Fenix', serif;\n",
        "        margin-top:12px;\n",
        "        margin-bottom: 3px;\n",
        "       }\n",
        "\th4{\n",
        "\t\tfont-family: 'Fenix', serif;\n",
        "       }\n",
        "    h5 {\n",
        "        font-family: 'Alegreya Sans', sans-serif;\n",
        "    }\t   \n",
        "    div.text_cell_render{\n",
        "        font-family: 'Alegreya Sans',Computer Modern, \"Helvetica Neue\", Arial, Helvetica, Geneva, sans-serif;\n",
        "        line-height: 135%;\n",
        "        font-size: 120%;\n",
        "        width:600px;\n",
        "        margin-left:auto;\n",
        "        margin-right:auto;\n",
        "    }\n",
        "    .CodeMirror{\n",
        "            font-family: \"Source Code Pro\";\n",
        "\t\t\tfont-size: 90%;\n",
        "    }\n",
        "/*    .prompt{\n",
        "        display: None;\n",
        "    }*/\n",
        "    .text_cell_render h1 {\n",
        "        font-weight: 200;\n",
        "        font-size: 50pt;\n",
        "\t\tline-height: 100%;\n",
        "        color:#CD2305;\n",
        "        margin-bottom: 0.5em;\n",
        "        margin-top: 0.5em;\n",
        "        display: block;\n",
        "    }\t\n",
        "    .text_cell_render h5 {\n",
        "        font-weight: 300;\n",
        "        font-size: 16pt;\n",
        "        color: #CD2305;\n",
        "        font-style: italic;\n",
        "        margin-bottom: .5em;\n",
        "        margin-top: 0.5em;\n",
        "        display: block;\n",
        "    }\n",
        "    \n",
        "    .warning{\n",
        "        color: rgb( 240, 20, 20 )\n",
        "        }  \n",
        "</style>\n",
        "<script>\n",
        "    MathJax.Hub.Config({\n",
        "                        TeX: {\n",
        "                           extensions: [\"AMSmath.js\"]\n",
        "                           },\n",
        "                tex2jax: {\n",
        "                    inlineMath: [ ['$','$'], [\"\\\\(\",\"\\\\)\"] ],\n",
        "                    displayMath: [ ['$$','$$'], [\"\\\\[\",\"\\\\]\"] ]\n",
        "                },\n",
        "                displayAlign: 'center', // Change this to 'center' to center equations.\n",
        "                \"HTML-CSS\": {\n",
        "                    styles: {'.MathJax_Display': {\"margin\": 4}}\n",
        "                }\n",
        "        });\n",
        "</script>\n"
       ],
       "metadata": {},
       "output_type": "pyout",
       "prompt_number": 1,
       "text": [
        "<IPython.core.display.HTML at 0x60a2eb8>"
       ]
      }
     ],
     "prompt_number": 1
    },
    {
     "cell_type": "code",
     "collapsed": false,
     "input": [],
     "language": "python",
     "metadata": {},
     "outputs": []
    }
   ],
   "metadata": {}
  }
 ]
}