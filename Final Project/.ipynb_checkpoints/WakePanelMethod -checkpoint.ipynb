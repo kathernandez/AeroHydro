{
 "metadata": {
  "name": ""
 },
 "nbformat": 3,
 "nbformat_minor": 0,
 "worksheets": [
  {
   "cells": [
    {
     "cell_type": "heading",
     "level": 1,
     "metadata": {},
     "source": [
      "Wake Panel Method "
     ]
    },
    {
     "cell_type": "markdown",
     "metadata": {},
     "source": [
      "In lesson 11, we learned how to implement source-vortex panel method. The method begins with using source sheets as a way to model flow around an object however lift is not incorporated. In order to include lift, we need to have circulation. The right amount of circulation is then achieved by satisfying the Kutta-condition. The circulation is introduced by placing a vortex-sheet at every panel with the same constant vortex strength. \n",
      "\n",
      "Now we want to look at flow down stream of the airfoil, in particular, the wake behind the airfoil. There are two main techniques typically used to model wake shapes(source Jianfang):\n",
      "\n",
      "   1. Spatial wake-relaxation method \n",
      "   2. Time stepping method \n",
      "\n",
      "The wake shapes we are looking at are free-wakes because they apply to incompressible flow where the viscous forces are considered negligable. We will assume the flow is steady therefore a spatial wake-relation method should be used. Time stepping methods are generally used to model wake forms for unsteady flow. Additionally, we can model the wake through a more simple method, single wake panel methods aligned with the free stream. Although this method has shown to be less accurate, it serves as a simplified introduction to modeling the wake. After completeing this lesson, the method's accuracy can be improved by having the panels be aligned with the bisector angle of the trailing edge instead and then ultimately apply a wake-relaxation method(source Blower). \n",
      "\n",
      "Constant strength doublet panels will be used in the single wake panel method. "
     ]
    },
    {
     "cell_type": "markdown",
     "metadata": {},
     "source": []
    }
   ],
   "metadata": {}
  }
 ]
}